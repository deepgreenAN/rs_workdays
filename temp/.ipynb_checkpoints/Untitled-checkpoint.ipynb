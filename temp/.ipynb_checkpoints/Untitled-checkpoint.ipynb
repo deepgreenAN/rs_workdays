{
 "cells": [
  {
   "cell_type": "code",
   "execution_count": 2,
   "metadata": {
    "ExecuteTime": {
     "end_time": "2021-05-25T10:30:14.470347Z",
     "start_time": "2021-05-25T10:30:14.451398Z"
    }
   },
   "outputs": [],
   "source": [
    "import numpy as np\n",
    "import pandas as pd\n",
    "import datetime"
   ]
  },
  {
   "cell_type": "code",
   "execution_count": 3,
   "metadata": {
    "ExecuteTime": {
     "end_time": "2021-05-25T10:30:59.380242Z",
     "start_time": "2021-05-25T10:30:59.345337Z"
    }
   },
   "outputs": [],
   "source": [
    "start_datetime = datetime.datetime(2021,1,1)\n",
    "end_datetime = datetime.datetime(2021,1,10)\n",
    "date_range = pd.date_range(start_datetime, end_datetime, freq=\"5T\")"
   ]
  },
  {
   "cell_type": "code",
   "execution_count": 4,
   "metadata": {
    "ExecuteTime": {
     "end_time": "2021-05-25T10:31:04.769831Z",
     "start_time": "2021-05-25T10:31:04.681064Z"
    }
   },
   "outputs": [
    {
     "data": {
      "text/plain": [
       "DatetimeIndex(['2021-01-01 00:00:00', '2021-01-01 00:05:00',\n",
       "               '2021-01-01 00:10:00', '2021-01-01 00:15:00',\n",
       "               '2021-01-01 00:20:00', '2021-01-01 00:25:00',\n",
       "               '2021-01-01 00:30:00', '2021-01-01 00:35:00',\n",
       "               '2021-01-01 00:40:00', '2021-01-01 00:45:00',\n",
       "               ...\n",
       "               '2021-01-09 23:15:00', '2021-01-09 23:20:00',\n",
       "               '2021-01-09 23:25:00', '2021-01-09 23:30:00',\n",
       "               '2021-01-09 23:35:00', '2021-01-09 23:40:00',\n",
       "               '2021-01-09 23:45:00', '2021-01-09 23:50:00',\n",
       "               '2021-01-09 23:55:00', '2021-01-10 00:00:00'],\n",
       "              dtype='datetime64[ns]', length=2593, freq='5T')"
      ]
     },
     "execution_count": 4,
     "metadata": {},
     "output_type": "execute_result"
    }
   ],
   "source": [
    "date_range"
   ]
  },
  {
   "cell_type": "code",
   "execution_count": 8,
   "metadata": {
    "ExecuteTime": {
     "end_time": "2021-05-25T10:31:58.243821Z",
     "start_time": "2021-05-25T10:31:58.223878Z"
    }
   },
   "outputs": [],
   "source": [
    "values = date_range.values"
   ]
  },
  {
   "cell_type": "code",
   "execution_count": 9,
   "metadata": {
    "ExecuteTime": {
     "end_time": "2021-05-25T10:32:01.415343Z",
     "start_time": "2021-05-25T10:32:01.393400Z"
    }
   },
   "outputs": [
    {
     "data": {
      "text/plain": [
       "array(['2021-01-01T00:00:00.000000000', '2021-01-01T00:05:00.000000000',\n",
       "       '2021-01-01T00:10:00.000000000', ...,\n",
       "       '2021-01-09T23:50:00.000000000', '2021-01-09T23:55:00.000000000',\n",
       "       '2021-01-10T00:00:00.000000000'], dtype='datetime64[ns]')"
      ]
     },
     "execution_count": 9,
     "metadata": {},
     "output_type": "execute_result"
    }
   ],
   "source": [
    "values"
   ]
  },
  {
   "cell_type": "code",
   "execution_count": 12,
   "metadata": {
    "ExecuteTime": {
     "end_time": "2021-05-25T10:32:36.937343Z",
     "start_time": "2021-05-25T10:32:36.902441Z"
    }
   },
   "outputs": [
    {
     "data": {
      "text/plain": [
       "array([1609459200000000000, 1609459500000000000, 1609459800000000000, ...,\n",
       "       1610236200000000000, 1610236500000000000, 1610236800000000000],\n",
       "      dtype=int64)"
      ]
     },
     "execution_count": 12,
     "metadata": {},
     "output_type": "execute_result"
    }
   ],
   "source": [
    "values.astype(np.int64)"
   ]
  },
  {
   "cell_type": "code",
   "execution_count": null,
   "metadata": {},
   "outputs": [],
   "source": []
  }
 ],
 "metadata": {
  "kernelspec": {
   "display_name": "torch_py37",
   "language": "python",
   "name": "torch_py37"
  },
  "language_info": {
   "codemirror_mode": {
    "name": "ipython",
    "version": 3
   },
   "file_extension": ".py",
   "mimetype": "text/x-python",
   "name": "python",
   "nbconvert_exporter": "python",
   "pygments_lexer": "ipython3",
   "version": "3.7.4"
  },
  "toc": {
   "base_numbering": 1,
   "nav_menu": {},
   "number_sections": true,
   "sideBar": true,
   "skip_h1_title": true,
   "title_cell": "Table of Contents",
   "title_sidebar": "Contents",
   "toc_cell": false,
   "toc_position": {},
   "toc_section_display": true,
   "toc_window_display": false
  }
 },
 "nbformat": 4,
 "nbformat_minor": 4
}
